{
 "cells": [
  {
   "cell_type": "markdown",
   "metadata": {},
   "source": [
    "DeeplabV3+"
   ]
  },
  {
   "cell_type": "code",
   "execution_count": 1,
   "metadata": {},
   "outputs": [
    {
     "name": "stderr",
     "output_type": "stream",
     "text": [
      "/home/cvrlab308/anaconda3/envs/ps-mt/lib/python3.7/site-packages/tqdm/auto.py:22: TqdmWarning: IProgress not found. Please update jupyter and ipywidgets. See https://ipywidgets.readthedocs.io/en/stable/user_install.html\n",
      "  from .autonotebook import tqdm as notebook_tqdm\n"
     ]
    }
   ],
   "source": [
    "import os\n",
    "import json\n",
    "import logging\n",
    "import copy\n",
    "import shutil\n",
    "import time\n",
    "\n",
    "from tqdm import tqdm\n",
    "\n",
    "import cv2\n",
    "import numpy as np\n",
    "from PIL import Image\n",
    "\n",
    "import torch\n",
    "from torch.utils.data import DataLoader\n",
    "from torch.utils.data.sampler import SubsetRandomSampler\n",
    "import torch.nn\n",
    "import torch.nn.functional as F\n",
    "from torch.nn.parallel import DistributedDataParallel as DDP\n",
    "import torch.distributed as dist\n",
    "\n",
    "from torchvision import transforms\n",
    "from torchvision.transforms import functional as F\n",
    "\n",
    "from math import ceil\n",
    "from itertools import cycle\n",
    "from itertools import chain\n",
    "from collections import OrderedDict\n",
    "from functools import partial\n",
    "\n",
    "import matplotlib.pyplot as plt\n",
    "import seaborn as sns\n",
    "\n",
    "import random\n",
    "random.seed(42)"
   ]
  },
  {
   "cell_type": "code",
   "execution_count": 2,
   "metadata": {},
   "outputs": [
    {
     "name": "stderr",
     "output_type": "stream",
     "text": [
      "Training start, 总共 80 epochs\n",
      "GPUs: cuda\n",
      "DeeplabV3+ with ResNet 101 backbone\n",
      "Current Labeled Example: 515\n",
      "Learning rate: other 0.01, and head is the SAME [world]\n",
      "Current batch: 16 [world]\n",
      "Current unsupervised loss function: semi_ce, with weight 1.5 and length 12\n"
     ]
    },
    {
     "name": "stdout",
     "output_type": "stream",
     "text": [
      "\n",
      "config json :\n",
      "name PS-MT(DeeplabV3+)\n",
      "experim_name TEST_warm\n",
      "n_labeled_examples 515\n",
      "ramp_up 12\n",
      "unsupervised_w 1.5\n",
      "lr_scheduler Poly\n",
      "gamma 0.5\n",
      "model {'supervised': False, 'semi': True, 'resnet': 101, 'sup_loss': 'DE', 'un_loss': 'semi_ce', 'epochs': 80, 'warm_up_epoch': 80, 'data_h_w': [224, 224]}\n",
      "optimizer {'type': 'SGD', 'args': {'lr': 0.01, 'weight_decay': 0.0001, 'momentum': 0.9}}\n",
      "train_supervised {'data_dir': 'FA', 'batch_size': 8, 'shuffle': True, 'crop_size': 224, 'split': 'train_supervised', 'num_workers': 8}\n",
      "train_unsupervised {'data_dir': 'unlabel_FA', 'batch_size': 8, 'shuffle': True, 'crop_size': 224, 'split': 'train_unsupervised', 'num_workers': 8}\n",
      "val_loader {'data_dir': 'FA', 'batch_size': 1, 'split': 'val', 'shuffle': False, 'num_workers': 4}\n",
      "test_loader {'data_dir': 'FA', 'batch_size': 1, 'split': 'test', 'shuffle': False, 'num_workers': 4}\n"
     ]
    }
   ],
   "source": [
    "#config\n",
    "batch_size = 8\n",
    "epochs = 80\n",
    "warm_up = 80\n",
    "labeled_examples = 515\n",
    "lr = 1e-2\n",
    "backbone = 101 #\" the resnet x {50, 101} layers\"\n",
    "semi_p_th = 0.6 # positive_threshold for semi-supervised loss\n",
    "semi_n_th = 0.0 # negative_threshold for semi-supervised loss\n",
    "unsup_weight = 1.5 # unsupervised weight for the semi-supervised loss\n",
    "\n",
    "config = json.load(open(\"configs/config_deeplab_v3+.json\"))\n",
    "\n",
    "config['train_supervised']['batch_size'] = batch_size\n",
    "config['train_unsupervised']['batch_size'] = batch_size\n",
    "config['model']['epochs'] = epochs\n",
    "config['model']['warm_up_epoch'] = warm_up\n",
    "config['n_labeled_examples'] = labeled_examples\n",
    "config['model']['resnet'] = backbone\n",
    "config['optimizer']['args']['lr'] = lr\n",
    "config['unsupervised_w'] = unsup_weight\n",
    "config['model']['data_h_w'] = [config['train_supervised']['crop_size'], config['train_supervised']['crop_size']]\n",
    "\n",
    "device = torch.device('cuda' if torch.cuda.is_available() else 'cpu')\n",
    "\n",
    "logger = logging.getLogger(\"PS-MT\")\n",
    "logger.propagate = False\n",
    "logger.warning(\"Training start, 总共 {} epochs\".format(str(config['model']['epochs'])))\n",
    "logger.critical(\"GPUs: {}\".format(device))\n",
    "logger.critical(\"DeeplabV3+ with ResNet {} backbone\".format(str(config['model']['resnet'])))\n",
    "logger.critical(\"Current Labeled Example: {}\".format(config['n_labeled_examples']))\n",
    "logger.critical(\"Learning rate: other {}, and head is the SAME [world]\".format(config['optimizer']['args']['lr']))\n",
    "\n",
    "logger.critical(\"Current batch: {} [world]\".format(int(config['train_unsupervised']['batch_size']) +\n",
    "                                                int(config['train_supervised']['batch_size'])) )\n",
    "\n",
    "logger.critical(\"Current unsupervised loss function: {}, with weight {} and length {}\".format(config['model']['un_loss'],\n",
    "                                                                                            config['unsupervised_w'],\n",
    "                                                                                            config['ramp_up']))\n",
    "print(\"\\nconfig json :\")\n",
    "for i in config:\n",
    "    print(i, config[i])\n"
   ]
  },
  {
   "cell_type": "code",
   "execution_count": 3,
   "metadata": {},
   "outputs": [
    {
     "name": "stdout",
     "output_type": "stream",
     "text": [
      "train_supervised\n",
      "     data_dir : FA\n",
      "     batch_size : 8\n",
      "     shuffle : True\n",
      "     crop_size : 224\n",
      "     split : train_supervised\n",
      "     num_workers : 8\n",
      "     choose : All\n",
      "train_unsupervised\n",
      "     data_dir : unlabel_FA\n",
      "     batch_size : 8\n",
      "     shuffle : True\n",
      "     crop_size : 224\n",
      "     split : train_unsupervised\n",
      "     num_workers : 8\n",
      "     choose : All\n",
      "val_loader\n",
      "     data_dir : FA\n",
      "     batch_size : 1\n",
      "     split : val\n",
      "     shuffle : False\n",
      "     num_workers : 4\n",
      "     choose : All\n",
      "test_loader\n",
      "     data_dir : FA\n",
      "     batch_size : 1\n",
      "     split : test\n",
      "     shuffle : False\n",
      "     num_workers : 4\n",
      "     choose : All\n",
      "supervised_loader:  515\n",
      "unsupervised_loader:  5263\n",
      "val_loader:  162\n",
      "test_loader:  157\n"
     ]
    }
   ],
   "source": [
    "# DATA LOADERS\n",
    "from DataLoader.dataset_onlyFA import *\n",
    "choose_data = \"All\"\n",
    "\n",
    "config['train_supervised']['choose'] = choose_data\n",
    "config['train_unsupervised']['choose'] = choose_data\n",
    "config['val_loader']['choose'] = choose_data\n",
    "config['test_loader']['choose'] = choose_data\n",
    "\n",
    "print(\"train_supervised\")\n",
    "for i in config['train_supervised']:\n",
    "    print(\"    \",i, \":\", config['train_supervised'][i])\n",
    "print(\"train_unsupervised\")\n",
    "for i in config['train_unsupervised']:\n",
    "    print(\"    \", i, \":\", config['train_unsupervised'][i])\n",
    "print(\"val_loader\")\n",
    "for i in config['val_loader']:\n",
    "    print(\"    \", i, \":\", config['val_loader'][i])\n",
    "print(\"test_loader\")\n",
    "for i in config['test_loader']:\n",
    "    print(\"    \", i, \":\", config['test_loader'][i])\n",
    "\n",
    "supervised_set = BasicDataset(data_dir=config['train_supervised']['data_dir'], \n",
    "                                 choose=config['train_supervised']['choose'],\n",
    "                                 split=config['train_supervised']['split'])\n",
    "unsupervised_set = BasicDataset(data_dir=config['train_unsupervised']['data_dir'],\n",
    "                                   choose=config['train_unsupervised']['choose'],\n",
    "                                   split=config['train_unsupervised']['split'])\n",
    "val_set = BasicDataset(data_dir=config['val_loader']['data_dir'],\n",
    "                          choose=config['val_loader']['choose'],\n",
    "                          split=config['val_loader']['split'])\n",
    "\n",
    "test_set = BasicDataset(data_dir=config['test_loader']['data_dir'],\n",
    "                          choose=config['test_loader']['choose'],\n",
    "                          split=config['test_loader']['split'])\n",
    "\n",
    "print(\"supervised_loader: \",len(supervised_set))\n",
    "print(\"unsupervised_loader: \",len(unsupervised_set))\n",
    "print(\"val_loader: \",len(val_set))\n",
    "print(\"test_loader: \",len(test_set))\n",
    "\n",
    "\n",
    "supervised_loader = DataLoader(dataset=supervised_set, batch_size=config['train_supervised']['batch_size'],\n",
    "                               shuffle=config['train_supervised']['shuffle'], \n",
    "                               num_workers=config['train_supervised']['num_workers'])\n",
    "unsupervised_loader = DataLoader(dataset=unsupervised_set, batch_size=config['train_unsupervised']['batch_size'],\n",
    "                               shuffle=config['train_unsupervised']['shuffle'], \n",
    "                               num_workers=config['train_unsupervised']['num_workers'])\n",
    "val_loader = DataLoader(dataset=val_set, batch_size=config['val_loader']['batch_size'],\n",
    "                               shuffle=config['val_loader']['shuffle'], \n",
    "                               num_workers=config['val_loader']['num_workers'])\n",
    "test_loader = DataLoader(dataset=test_set, batch_size=config['test_loader']['batch_size'],\n",
    "                               shuffle=config['test_loader']['shuffle'], \n",
    "                               num_workers=config['test_loader']['num_workers'])\n",
    "\n"
   ]
  },
  {
   "cell_type": "code",
   "execution_count": 5,
   "metadata": {},
   "outputs": [
    {
     "name": "stdout",
     "output_type": "stream",
     "text": [
      "Number of parameter: 60.75M\n"
     ]
    }
   ],
   "source": [
    "from torch import optim\n",
    "\n",
    "from Model.Deeplabv3_plus.psmt_model import *\n",
    "from Utils.ramps import *\n",
    "\n",
    "\n",
    "model_t1 = Teacher_Net(num_classes=2, config=config['model'])\n",
    "model_t1 = model_t1.to(device)\n",
    "\n",
    "optimizer_t1 = optim.SGD(model_t1.parameters(), \n",
    "                      lr=config['optimizer']['args']['lr'],\n",
    "                      momentum=config['optimizer']['args']['momentum'],\n",
    "                      weight_decay=config['optimizer']['args']['weight_decay'])\n",
    "\n",
    "total = sum([param.nelement() for param in model_t1.parameters()])\n",
    "print(\"Number of parameter: %.2fM\" % (total/1e6))"
   ]
  },
  {
   "cell_type": "code",
   "execution_count": 6,
   "metadata": {},
   "outputs": [],
   "source": [
    "from sklearn import metrics, neighbors\n",
    "from sklearn.metrics import confusion_matrix\n",
    "\n",
    "def information_index(outputs, targets):\n",
    "    eps = np.finfo(np.float64).eps\n",
    "    output = outputs.flatten()\n",
    "    target = targets.flatten()\n",
    "    TN, FP, FN, TP = confusion_matrix(target,output).ravel()\n",
    "\n",
    "    index_MIou =  ( TP / (TP + FP + FN + eps) + TN / (TN + FN + FP + eps) ) / 2\n",
    "    mean_iou = np.mean(index_MIou)\n",
    "    index_dice = 2*TP / (2*TP + FP + FN + eps)\n",
    "    mean_dice = np.mean(index_dice)\n",
    "\n",
    "    return mean_iou, mean_dice\n",
    "\n",
    "def count_index(pre, tar):\n",
    "        path_pre = pre\n",
    "        path_target = tar\n",
    "        dirs = os.listdir(path_pre)\n",
    "        # print(len(dirs))\n",
    "        con_mIOU = 0\n",
    "        con_mdice = 0\n",
    "        for imgs in dirs:\n",
    "            pre_path = path_pre + '/' + str(imgs)\n",
    "            target_path = path_target + '/' + str(imgs)\n",
    "\n",
    "            target = cv2.imread(target_path, cv2.IMREAD_GRAYSCALE)\n",
    "            _, tar = cv2.threshold(target, 128, 255, cv2.THRESH_BINARY)\n",
    "\n",
    "            predict = cv2.imread(pre_path, cv2.IMREAD_GRAYSCALE)\n",
    "            _, pre = cv2.threshold(predict, 128, 255, cv2.THRESH_BINARY)\n",
    "\n",
    "            tIOU, tdice = information_index(pre,tar)\n",
    "            con_mIOU += tIOU\n",
    "            con_mdice += tdice\n",
    "        val_mIoU = con_mIOU/len(dirs)\n",
    "        val_mDice = con_mdice/len(dirs)\n",
    "        \n",
    "        return val_mIoU, val_mDice"
   ]
  },
  {
   "cell_type": "code",
   "execution_count": 6,
   "metadata": {},
   "outputs": [
    {
     "name": "stdout",
     "output_type": "stream",
     "text": [
      "Epoch: 1/80 --- < Starting Time : Mon Jul  1 09:06:05 2024 >\n",
      "------------------------------------------------------------\n"
     ]
    },
    {
     "name": "stderr",
     "output_type": "stream",
     "text": [
      "  0%|          | 0/65 [00:00<?, ?it/s]"
     ]
    },
    {
     "name": "stderr",
     "output_type": "stream",
     "text": [
      "100%|██████████| 65/65 [00:04<00:00, 14.42it/s]\n"
     ]
    },
    {
     "name": "stdout",
     "output_type": "stream",
     "text": [
      "Epoch1 loss : \n",
      "teacher 1 loss = 0.04257368668913841\n"
     ]
    },
    {
     "name": "stderr",
     "output_type": "stream",
     "text": [
      "100%|██████████| 162/162 [00:02<00:00, 70.22it/s]\n"
     ]
    },
    {
     "name": "stdout",
     "output_type": "stream",
     "text": [
      "Epoch 1 val:mIoU: 0.5465, DSC: 0.2415\n",
      "Change Best: epoch: 1, mIoU: 0.5465, DSC: 0.2415]\n",
      "Best model : epoch : 1  DSC : 0.2415\n",
      "Epoch: 2/80 --- < Starting Time : Mon Jul  1 09:06:14 2024 >\n",
      "------------------------------------------------------------\n"
     ]
    },
    {
     "name": "stderr",
     "output_type": "stream",
     "text": [
      "100%|██████████| 65/65 [00:04<00:00, 15.62it/s]\n"
     ]
    },
    {
     "name": "stdout",
     "output_type": "stream",
     "text": [
      "Epoch2 loss : \n",
      "teacher 1 loss = 0.03414718061685562\n"
     ]
    },
    {
     "name": "stderr",
     "output_type": "stream",
     "text": [
      "100%|██████████| 162/162 [00:02<00:00, 71.52it/s]\n"
     ]
    },
    {
     "name": "stdout",
     "output_type": "stream",
     "text": [
      "Epoch 2 val:mIoU: 0.5573, DSC: 0.2608\n",
      "Change Best: epoch: 2, mIoU: 0.5573, DSC: 0.2608]\n",
      "Best model : epoch : 2  DSC : 0.2608\n",
      "Epoch: 3/80 --- < Starting Time : Mon Jul  1 09:06:22 2024 >\n",
      "------------------------------------------------------------\n"
     ]
    },
    {
     "name": "stderr",
     "output_type": "stream",
     "text": [
      "100%|██████████| 65/65 [00:04<00:00, 15.50it/s]\n"
     ]
    },
    {
     "name": "stdout",
     "output_type": "stream",
     "text": [
      "Epoch3 loss : \n",
      "teacher 1 loss = 0.031021643429994583\n"
     ]
    },
    {
     "name": "stderr",
     "output_type": "stream",
     "text": [
      "100%|██████████| 162/162 [00:02<00:00, 70.14it/s]\n"
     ]
    },
    {
     "name": "stdout",
     "output_type": "stream",
     "text": [
      "Epoch 3 val:mIoU: 0.5662, DSC: 0.3032\n",
      "Change Best: epoch: 3, mIoU: 0.5662, DSC: 0.3032]\n",
      "Best model : epoch : 3  DSC : 0.3032\n",
      "Epoch: 4/80 --- < Starting Time : Mon Jul  1 09:06:30 2024 >\n",
      "------------------------------------------------------------\n"
     ]
    },
    {
     "name": "stderr",
     "output_type": "stream",
     "text": [
      "100%|██████████| 65/65 [00:04<00:00, 15.29it/s]\n"
     ]
    },
    {
     "name": "stdout",
     "output_type": "stream",
     "text": [
      "Epoch4 loss : \n",
      "teacher 1 loss = 0.027426840737462044\n"
     ]
    },
    {
     "name": "stderr",
     "output_type": "stream",
     "text": [
      "100%|██████████| 162/162 [00:02<00:00, 68.33it/s]\n"
     ]
    },
    {
     "name": "stdout",
     "output_type": "stream",
     "text": [
      "Epoch 4 val:mIoU: 0.5772, DSC: 0.3135\n",
      "Change Best: epoch: 4, mIoU: 0.5772, DSC: 0.3135]\n",
      "Best model : epoch : 4  DSC : 0.3135\n",
      "Epoch: 5/80 --- < Starting Time : Mon Jul  1 09:06:38 2024 >\n",
      "------------------------------------------------------------\n"
     ]
    },
    {
     "name": "stderr",
     "output_type": "stream",
     "text": [
      "100%|██████████| 65/65 [00:04<00:00, 15.39it/s]\n"
     ]
    },
    {
     "name": "stdout",
     "output_type": "stream",
     "text": [
      "Epoch5 loss : \n",
      "teacher 1 loss = 0.02369128353893757\n"
     ]
    },
    {
     "name": "stderr",
     "output_type": "stream",
     "text": [
      "100%|██████████| 162/162 [00:02<00:00, 70.34it/s]\n"
     ]
    },
    {
     "name": "stdout",
     "output_type": "stream",
     "text": [
      "Epoch 5 val:mIoU: 0.5845, DSC: 0.3526\n",
      "Change Best: epoch: 5, mIoU: 0.5845, DSC: 0.3526]\n",
      "Best model : epoch : 5  DSC : 0.3526\n",
      "Epoch: 6/80 --- < Starting Time : Mon Jul  1 09:06:47 2024 >\n",
      "------------------------------------------------------------\n"
     ]
    },
    {
     "name": "stderr",
     "output_type": "stream",
     "text": [
      "100%|██████████| 65/65 [00:04<00:00, 15.58it/s]\n"
     ]
    },
    {
     "name": "stdout",
     "output_type": "stream",
     "text": [
      "Epoch6 loss : \n",
      "teacher 1 loss = 0.021432751789689064\n"
     ]
    },
    {
     "name": "stderr",
     "output_type": "stream",
     "text": [
      "100%|██████████| 162/162 [00:02<00:00, 68.08it/s]\n"
     ]
    },
    {
     "name": "stdout",
     "output_type": "stream",
     "text": [
      "Epoch 6 val:mIoU: 0.5774, DSC: 0.3294\n",
      "Best model : epoch : 5  DSC : 0.3526\n",
      "Epoch: 7/80 --- < Starting Time : Mon Jul  1 09:06:55 2024 >\n",
      "------------------------------------------------------------\n"
     ]
    },
    {
     "name": "stderr",
     "output_type": "stream",
     "text": [
      "100%|██████████| 65/65 [00:04<00:00, 15.49it/s]\n"
     ]
    },
    {
     "name": "stdout",
     "output_type": "stream",
     "text": [
      "Epoch7 loss : \n",
      "teacher 1 loss = 0.019214298576116562\n"
     ]
    },
    {
     "name": "stderr",
     "output_type": "stream",
     "text": [
      "100%|██████████| 162/162 [00:02<00:00, 68.26it/s]\n"
     ]
    },
    {
     "name": "stdout",
     "output_type": "stream",
     "text": [
      "Epoch 7 val:mIoU: 0.5891, DSC: 0.3560\n",
      "Change Best: epoch: 7, mIoU: 0.5891, DSC: 0.3560]\n",
      "Best model : epoch : 7  DSC : 0.3560\n",
      "Epoch: 8/80 --- < Starting Time : Mon Jul  1 09:07:03 2024 >\n",
      "------------------------------------------------------------\n"
     ]
    },
    {
     "name": "stderr",
     "output_type": "stream",
     "text": [
      "100%|██████████| 65/65 [00:04<00:00, 15.37it/s]\n"
     ]
    },
    {
     "name": "stdout",
     "output_type": "stream",
     "text": [
      "Epoch8 loss : \n",
      "teacher 1 loss = 0.017375923693180084\n"
     ]
    },
    {
     "name": "stderr",
     "output_type": "stream",
     "text": [
      "100%|██████████| 162/162 [00:02<00:00, 68.83it/s]\n"
     ]
    },
    {
     "name": "stdout",
     "output_type": "stream",
     "text": [
      "Epoch 8 val:mIoU: 0.5862, DSC: 0.3332\n",
      "Best model : epoch : 7  DSC : 0.3560\n",
      "Epoch: 9/80 --- < Starting Time : Mon Jul  1 09:07:11 2024 >\n",
      "------------------------------------------------------------\n"
     ]
    },
    {
     "name": "stderr",
     "output_type": "stream",
     "text": [
      "100%|██████████| 65/65 [00:04<00:00, 15.09it/s]\n"
     ]
    },
    {
     "name": "stdout",
     "output_type": "stream",
     "text": [
      "Epoch9 loss : \n",
      "teacher 1 loss = 0.01492081768810749\n"
     ]
    },
    {
     "name": "stderr",
     "output_type": "stream",
     "text": [
      "100%|██████████| 162/162 [00:02<00:00, 69.62it/s]\n"
     ]
    },
    {
     "name": "stdout",
     "output_type": "stream",
     "text": [
      "Epoch 9 val:mIoU: 0.5884, DSC: 0.3349\n",
      "Best model : epoch : 7  DSC : 0.3560\n",
      "Epoch: 10/80 --- < Starting Time : Mon Jul  1 09:07:20 2024 >\n",
      "-------------------------------------------------------------\n"
     ]
    },
    {
     "name": "stderr",
     "output_type": "stream",
     "text": [
      "100%|██████████| 65/65 [00:04<00:00, 15.33it/s]\n"
     ]
    },
    {
     "name": "stdout",
     "output_type": "stream",
     "text": [
      "Epoch10 loss : \n",
      "teacher 1 loss = 0.01199532113969326\n"
     ]
    },
    {
     "name": "stderr",
     "output_type": "stream",
     "text": [
      "100%|██████████| 162/162 [00:02<00:00, 69.69it/s]\n"
     ]
    },
    {
     "name": "stdout",
     "output_type": "stream",
     "text": [
      "Epoch 10 val:mIoU: 0.5694, DSC: 0.3128\n",
      "Best model : epoch : 7  DSC : 0.3560\n",
      "Epoch: 11/80 --- < Starting Time : Mon Jul  1 09:07:28 2024 >\n",
      "-------------------------------------------------------------\n"
     ]
    },
    {
     "name": "stderr",
     "output_type": "stream",
     "text": [
      "100%|██████████| 65/65 [00:04<00:00, 15.55it/s]\n"
     ]
    },
    {
     "name": "stdout",
     "output_type": "stream",
     "text": [
      "Epoch11 loss : \n",
      "teacher 1 loss = 0.010578177869319916\n"
     ]
    },
    {
     "name": "stderr",
     "output_type": "stream",
     "text": [
      "100%|██████████| 162/162 [00:02<00:00, 68.48it/s]\n"
     ]
    },
    {
     "name": "stdout",
     "output_type": "stream",
     "text": [
      "Epoch 11 val:mIoU: 0.5798, DSC: 0.3114\n",
      "Best model : epoch : 7  DSC : 0.3560\n",
      "Epoch: 12/80 --- < Starting Time : Mon Jul  1 09:07:36 2024 >\n",
      "-------------------------------------------------------------\n"
     ]
    },
    {
     "name": "stderr",
     "output_type": "stream",
     "text": [
      "100%|██████████| 65/65 [00:04<00:00, 15.14it/s]\n"
     ]
    },
    {
     "name": "stdout",
     "output_type": "stream",
     "text": [
      "Epoch12 loss : \n",
      "teacher 1 loss = 0.009907139465212822\n"
     ]
    },
    {
     "name": "stderr",
     "output_type": "stream",
     "text": [
      "100%|██████████| 162/162 [00:02<00:00, 69.50it/s]\n"
     ]
    },
    {
     "name": "stdout",
     "output_type": "stream",
     "text": [
      "Epoch 12 val:mIoU: 0.5940, DSC: 0.3631\n",
      "Change Best: epoch: 12, mIoU: 0.5940, DSC: 0.3631]\n",
      "Best model : epoch : 12  DSC : 0.3631\n",
      "Epoch: 13/80 --- < Starting Time : Mon Jul  1 09:07:44 2024 >\n",
      "-------------------------------------------------------------\n"
     ]
    },
    {
     "name": "stderr",
     "output_type": "stream",
     "text": [
      "100%|██████████| 65/65 [00:04<00:00, 15.61it/s]\n"
     ]
    },
    {
     "name": "stdout",
     "output_type": "stream",
     "text": [
      "Epoch13 loss : \n",
      "teacher 1 loss = 0.009718169458210468\n"
     ]
    },
    {
     "name": "stderr",
     "output_type": "stream",
     "text": [
      "100%|██████████| 162/162 [00:02<00:00, 69.30it/s]\n"
     ]
    },
    {
     "name": "stdout",
     "output_type": "stream",
     "text": [
      "Epoch 13 val:mIoU: 0.5850, DSC: 0.3314\n",
      "Best model : epoch : 12  DSC : 0.3631\n",
      "Epoch: 14/80 --- < Starting Time : Mon Jul  1 09:07:53 2024 >\n",
      "-------------------------------------------------------------\n"
     ]
    },
    {
     "name": "stderr",
     "output_type": "stream",
     "text": [
      "100%|██████████| 65/65 [00:04<00:00, 15.39it/s]\n"
     ]
    },
    {
     "name": "stdout",
     "output_type": "stream",
     "text": [
      "Epoch14 loss : \n",
      "teacher 1 loss = 0.008959373459219933\n"
     ]
    },
    {
     "name": "stderr",
     "output_type": "stream",
     "text": [
      "100%|██████████| 162/162 [00:02<00:00, 70.14it/s]\n"
     ]
    },
    {
     "name": "stdout",
     "output_type": "stream",
     "text": [
      "Epoch 14 val:mIoU: 0.5643, DSC: 0.2708\n",
      "Best model : epoch : 12  DSC : 0.3631\n",
      "Epoch: 15/80 --- < Starting Time : Mon Jul  1 09:08:01 2024 >\n",
      "-------------------------------------------------------------\n"
     ]
    },
    {
     "name": "stderr",
     "output_type": "stream",
     "text": [
      "100%|██████████| 65/65 [00:04<00:00, 15.49it/s]\n"
     ]
    },
    {
     "name": "stdout",
     "output_type": "stream",
     "text": [
      "Epoch15 loss : \n",
      "teacher 1 loss = 0.00743897445499897\n"
     ]
    },
    {
     "name": "stderr",
     "output_type": "stream",
     "text": [
      "100%|██████████| 162/162 [00:02<00:00, 67.41it/s]\n"
     ]
    },
    {
     "name": "stdout",
     "output_type": "stream",
     "text": [
      "Epoch 15 val:mIoU: 0.5899, DSC: 0.3404\n",
      "Best model : epoch : 12  DSC : 0.3631\n",
      "Epoch: 16/80 --- < Starting Time : Mon Jul  1 09:08:09 2024 >\n",
      "-------------------------------------------------------------\n"
     ]
    },
    {
     "name": "stderr",
     "output_type": "stream",
     "text": [
      "100%|██████████| 65/65 [00:04<00:00, 15.49it/s]\n"
     ]
    },
    {
     "name": "stdout",
     "output_type": "stream",
     "text": [
      "Epoch16 loss : \n",
      "teacher 1 loss = 0.005889526102691889\n"
     ]
    },
    {
     "name": "stderr",
     "output_type": "stream",
     "text": [
      "100%|██████████| 162/162 [00:02<00:00, 70.03it/s]\n"
     ]
    },
    {
     "name": "stdout",
     "output_type": "stream",
     "text": [
      "Epoch 16 val:mIoU: 0.5770, DSC: 0.2982\n",
      "Best model : epoch : 12  DSC : 0.3631\n",
      "Epoch: 17/80 --- < Starting Time : Mon Jul  1 09:08:17 2024 >\n",
      "-------------------------------------------------------------\n"
     ]
    },
    {
     "name": "stderr",
     "output_type": "stream",
     "text": [
      "100%|██████████| 65/65 [00:04<00:00, 15.85it/s]\n"
     ]
    },
    {
     "name": "stdout",
     "output_type": "stream",
     "text": [
      "Epoch17 loss : \n",
      "teacher 1 loss = 0.005623141769319773\n"
     ]
    },
    {
     "name": "stderr",
     "output_type": "stream",
     "text": [
      "100%|██████████| 162/162 [00:02<00:00, 74.28it/s]\n"
     ]
    },
    {
     "name": "stdout",
     "output_type": "stream",
     "text": [
      "Epoch 17 val:mIoU: 0.5871, DSC: 0.3269\n",
      "Best model : epoch : 12  DSC : 0.3631\n",
      "Epoch: 18/80 --- < Starting Time : Mon Jul  1 09:08:25 2024 >\n",
      "-------------------------------------------------------------\n"
     ]
    },
    {
     "name": "stderr",
     "output_type": "stream",
     "text": [
      "100%|██████████| 65/65 [00:04<00:00, 15.70it/s]\n"
     ]
    },
    {
     "name": "stdout",
     "output_type": "stream",
     "text": [
      "Epoch18 loss : \n",
      "teacher 1 loss = 0.005439558532088995\n"
     ]
    },
    {
     "name": "stderr",
     "output_type": "stream",
     "text": [
      "100%|██████████| 162/162 [00:02<00:00, 72.32it/s]\n"
     ]
    },
    {
     "name": "stdout",
     "output_type": "stream",
     "text": [
      "Epoch 18 val:mIoU: 0.5816, DSC: 0.3118\n",
      "Best model : epoch : 12  DSC : 0.3631\n",
      "Epoch: 19/80 --- < Starting Time : Mon Jul  1 09:08:33 2024 >\n",
      "-------------------------------------------------------------\n"
     ]
    },
    {
     "name": "stderr",
     "output_type": "stream",
     "text": [
      "100%|██████████| 65/65 [00:03<00:00, 16.59it/s]\n"
     ]
    },
    {
     "name": "stdout",
     "output_type": "stream",
     "text": [
      "Epoch19 loss : \n",
      "teacher 1 loss = 0.005099431145936251\n"
     ]
    },
    {
     "name": "stderr",
     "output_type": "stream",
     "text": [
      "100%|██████████| 162/162 [00:02<00:00, 72.69it/s]\n"
     ]
    },
    {
     "name": "stdout",
     "output_type": "stream",
     "text": [
      "Epoch 19 val:mIoU: 0.5802, DSC: 0.3105\n",
      "Best model : epoch : 12  DSC : 0.3631\n",
      "Epoch: 20/80 --- < Starting Time : Mon Jul  1 09:08:41 2024 >\n",
      "-------------------------------------------------------------\n"
     ]
    },
    {
     "name": "stderr",
     "output_type": "stream",
     "text": [
      "100%|██████████| 65/65 [00:04<00:00, 15.34it/s]\n"
     ]
    },
    {
     "name": "stdout",
     "output_type": "stream",
     "text": [
      "Epoch20 loss : \n",
      "teacher 1 loss = 0.005036584567278624\n"
     ]
    },
    {
     "name": "stderr",
     "output_type": "stream",
     "text": [
      "100%|██████████| 162/162 [00:02<00:00, 66.54it/s]\n"
     ]
    },
    {
     "name": "stdout",
     "output_type": "stream",
     "text": [
      "Epoch 20 val:mIoU: 0.5858, DSC: 0.3243\n",
      "Best model : epoch : 12  DSC : 0.3631\n",
      "Epoch: 21/80 --- < Starting Time : Mon Jul  1 09:08:50 2024 >\n",
      "-------------------------------------------------------------\n"
     ]
    },
    {
     "name": "stderr",
     "output_type": "stream",
     "text": [
      "100%|██████████| 65/65 [00:04<00:00, 14.39it/s]\n"
     ]
    },
    {
     "name": "stdout",
     "output_type": "stream",
     "text": [
      "Epoch21 loss : \n",
      "teacher 1 loss = 0.0046900250017642975\n"
     ]
    },
    {
     "name": "stderr",
     "output_type": "stream",
     "text": [
      "100%|██████████| 162/162 [00:02<00:00, 66.42it/s]\n"
     ]
    },
    {
     "name": "stdout",
     "output_type": "stream",
     "text": [
      "Epoch 21 val:mIoU: 0.5896, DSC: 0.3338\n",
      "Best model : epoch : 12  DSC : 0.3631\n",
      "Epoch: 22/80 --- < Starting Time : Mon Jul  1 09:08:58 2024 >\n",
      "-------------------------------------------------------------\n"
     ]
    },
    {
     "name": "stderr",
     "output_type": "stream",
     "text": [
      "100%|██████████| 65/65 [00:04<00:00, 15.14it/s]\n"
     ]
    },
    {
     "name": "stdout",
     "output_type": "stream",
     "text": [
      "Epoch22 loss : \n",
      "teacher 1 loss = 0.004707159474492073\n"
     ]
    },
    {
     "name": "stderr",
     "output_type": "stream",
     "text": [
      "100%|██████████| 162/162 [00:02<00:00, 68.58it/s]\n"
     ]
    },
    {
     "name": "stdout",
     "output_type": "stream",
     "text": [
      "Epoch 22 val:mIoU: 0.5971, DSC: 0.3537\n",
      "Best model : epoch : 12  DSC : 0.3631\n",
      "Epoch: 23/80 --- < Starting Time : Mon Jul  1 09:09:07 2024 >\n",
      "-------------------------------------------------------------\n"
     ]
    },
    {
     "name": "stderr",
     "output_type": "stream",
     "text": [
      "100%|██████████| 65/65 [00:04<00:00, 15.57it/s]\n"
     ]
    },
    {
     "name": "stdout",
     "output_type": "stream",
     "text": [
      "Epoch23 loss : \n",
      "teacher 1 loss = 0.004458874464035034\n"
     ]
    },
    {
     "name": "stderr",
     "output_type": "stream",
     "text": [
      "100%|██████████| 162/162 [00:02<00:00, 68.96it/s]\n"
     ]
    },
    {
     "name": "stdout",
     "output_type": "stream",
     "text": [
      "Epoch 23 val:mIoU: 0.5972, DSC: 0.3509\n",
      "Best model : epoch : 12  DSC : 0.3631\n",
      "Epoch: 24/80 --- < Starting Time : Mon Jul  1 09:09:15 2024 >\n",
      "-------------------------------------------------------------\n"
     ]
    },
    {
     "name": "stderr",
     "output_type": "stream",
     "text": [
      "100%|██████████| 65/65 [00:04<00:00, 15.31it/s]\n"
     ]
    },
    {
     "name": "stdout",
     "output_type": "stream",
     "text": [
      "Epoch24 loss : \n",
      "teacher 1 loss = 0.004845079500228167\n"
     ]
    },
    {
     "name": "stderr",
     "output_type": "stream",
     "text": [
      "100%|██████████| 162/162 [00:02<00:00, 67.03it/s]\n"
     ]
    },
    {
     "name": "stdout",
     "output_type": "stream",
     "text": [
      "Epoch 24 val:mIoU: 0.5831, DSC: 0.3169\n",
      "Best model : epoch : 12  DSC : 0.3631\n",
      "Epoch: 25/80 --- < Starting Time : Mon Jul  1 09:09:23 2024 >\n",
      "-------------------------------------------------------------\n"
     ]
    },
    {
     "name": "stderr",
     "output_type": "stream",
     "text": [
      "100%|██████████| 65/65 [00:03<00:00, 16.47it/s]\n"
     ]
    },
    {
     "name": "stdout",
     "output_type": "stream",
     "text": [
      "Epoch25 loss : \n",
      "teacher 1 loss = 0.004460762720555067\n"
     ]
    },
    {
     "name": "stderr",
     "output_type": "stream",
     "text": [
      "100%|██████████| 162/162 [00:02<00:00, 69.30it/s]\n"
     ]
    },
    {
     "name": "stdout",
     "output_type": "stream",
     "text": [
      "Epoch 25 val:mIoU: 0.5719, DSC: 0.2927\n",
      "Best model : epoch : 12  DSC : 0.3631\n",
      "Epoch: 26/80 --- < Starting Time : Mon Jul  1 09:09:31 2024 >\n",
      "-------------------------------------------------------------\n"
     ]
    },
    {
     "name": "stderr",
     "output_type": "stream",
     "text": [
      "100%|██████████| 65/65 [00:04<00:00, 15.97it/s]\n"
     ]
    },
    {
     "name": "stdout",
     "output_type": "stream",
     "text": [
      "Epoch26 loss : \n",
      "teacher 1 loss = 0.005132816266268492\n"
     ]
    },
    {
     "name": "stderr",
     "output_type": "stream",
     "text": [
      "100%|██████████| 162/162 [00:02<00:00, 69.44it/s]\n"
     ]
    },
    {
     "name": "stdout",
     "output_type": "stream",
     "text": [
      "Epoch 26 val:mIoU: 0.5864, DSC: 0.3319\n",
      "Best model : epoch : 12  DSC : 0.3631\n",
      "Epoch: 27/80 --- < Starting Time : Mon Jul  1 09:09:39 2024 >\n",
      "-------------------------------------------------------------\n"
     ]
    },
    {
     "name": "stderr",
     "output_type": "stream",
     "text": [
      "100%|██████████| 65/65 [00:04<00:00, 15.10it/s]\n"
     ]
    },
    {
     "name": "stdout",
     "output_type": "stream",
     "text": [
      "Epoch27 loss : \n",
      "teacher 1 loss = 0.004353146068751812\n"
     ]
    },
    {
     "name": "stderr",
     "output_type": "stream",
     "text": [
      "100%|██████████| 162/162 [00:02<00:00, 66.08it/s]\n"
     ]
    },
    {
     "name": "stdout",
     "output_type": "stream",
     "text": [
      "Epoch 27 val:mIoU: 0.5865, DSC: 0.3302\n",
      "Best model : epoch : 12  DSC : 0.3631\n",
      "Epoch: 28/80 --- < Starting Time : Mon Jul  1 09:09:48 2024 >\n",
      "-------------------------------------------------------------\n"
     ]
    },
    {
     "name": "stderr",
     "output_type": "stream",
     "text": [
      "100%|██████████| 65/65 [00:04<00:00, 15.16it/s]\n"
     ]
    },
    {
     "name": "stdout",
     "output_type": "stream",
     "text": [
      "Epoch28 loss : \n",
      "teacher 1 loss = 0.003969857934862375\n"
     ]
    },
    {
     "name": "stderr",
     "output_type": "stream",
     "text": [
      "100%|██████████| 162/162 [00:02<00:00, 66.42it/s]\n"
     ]
    },
    {
     "name": "stdout",
     "output_type": "stream",
     "text": [
      "Epoch 28 val:mIoU: 0.5839, DSC: 0.3220\n",
      "Best model : epoch : 12  DSC : 0.3631\n",
      "Epoch: 29/80 --- < Starting Time : Mon Jul  1 09:09:56 2024 >\n",
      "-------------------------------------------------------------\n"
     ]
    },
    {
     "name": "stderr",
     "output_type": "stream",
     "text": [
      "100%|██████████| 65/65 [00:04<00:00, 15.25it/s]\n"
     ]
    },
    {
     "name": "stdout",
     "output_type": "stream",
     "text": [
      "Epoch29 loss : \n",
      "teacher 1 loss = 0.003829098306596279\n"
     ]
    },
    {
     "name": "stderr",
     "output_type": "stream",
     "text": [
      "100%|██████████| 162/162 [00:02<00:00, 69.27it/s]\n"
     ]
    },
    {
     "name": "stdout",
     "output_type": "stream",
     "text": [
      "Epoch 29 val:mIoU: 0.5880, DSC: 0.3305\n",
      "Best model : epoch : 12  DSC : 0.3631\n",
      "Epoch: 30/80 --- < Starting Time : Mon Jul  1 09:10:05 2024 >\n",
      "-------------------------------------------------------------\n"
     ]
    },
    {
     "name": "stderr",
     "output_type": "stream",
     "text": [
      "100%|██████████| 65/65 [00:04<00:00, 15.38it/s]\n"
     ]
    },
    {
     "name": "stdout",
     "output_type": "stream",
     "text": [
      "Epoch30 loss : \n",
      "teacher 1 loss = 0.003686547512188554\n"
     ]
    },
    {
     "name": "stderr",
     "output_type": "stream",
     "text": [
      "100%|██████████| 162/162 [00:02<00:00, 68.25it/s]\n"
     ]
    },
    {
     "name": "stdout",
     "output_type": "stream",
     "text": [
      "Epoch 30 val:mIoU: 0.5646, DSC: 0.2752\n",
      "Best model : epoch : 12  DSC : 0.3631\n",
      "Epoch: 31/80 --- < Starting Time : Mon Jul  1 09:10:13 2024 >\n",
      "-------------------------------------------------------------\n"
     ]
    },
    {
     "name": "stderr",
     "output_type": "stream",
     "text": [
      "100%|██████████| 65/65 [00:04<00:00, 15.21it/s]\n"
     ]
    },
    {
     "name": "stdout",
     "output_type": "stream",
     "text": [
      "Epoch31 loss : \n",
      "teacher 1 loss = 0.003540491219609976\n"
     ]
    },
    {
     "name": "stderr",
     "output_type": "stream",
     "text": [
      "100%|██████████| 162/162 [00:02<00:00, 67.50it/s]\n"
     ]
    },
    {
     "name": "stdout",
     "output_type": "stream",
     "text": [
      "Epoch 31 val:mIoU: 0.5834, DSC: 0.3195\n",
      "Best model : epoch : 12  DSC : 0.3631\n",
      "Epoch: 32/80 --- < Starting Time : Mon Jul  1 09:10:21 2024 >\n",
      "-------------------------------------------------------------\n"
     ]
    },
    {
     "name": "stderr",
     "output_type": "stream",
     "text": [
      "100%|██████████| 65/65 [00:04<00:00, 15.07it/s]\n"
     ]
    },
    {
     "name": "stdout",
     "output_type": "stream",
     "text": [
      "Epoch32 loss : \n",
      "teacher 1 loss = 0.0036570029333233833\n"
     ]
    },
    {
     "name": "stderr",
     "output_type": "stream",
     "text": [
      "100%|██████████| 162/162 [00:02<00:00, 69.16it/s]\n"
     ]
    },
    {
     "name": "stdout",
     "output_type": "stream",
     "text": [
      "Epoch 32 val:mIoU: 0.5769, DSC: 0.2999\n",
      "Best model : epoch : 12  DSC : 0.3631\n",
      "Epoch: 33/80 --- < Starting Time : Mon Jul  1 09:10:30 2024 >\n",
      "-------------------------------------------------------------\n"
     ]
    },
    {
     "name": "stderr",
     "output_type": "stream",
     "text": [
      "100%|██████████| 65/65 [00:04<00:00, 16.02it/s]\n"
     ]
    },
    {
     "name": "stdout",
     "output_type": "stream",
     "text": [
      "Epoch33 loss : \n",
      "teacher 1 loss = 0.0033921340946108103\n"
     ]
    },
    {
     "name": "stderr",
     "output_type": "stream",
     "text": [
      "100%|██████████| 162/162 [00:02<00:00, 65.99it/s]\n"
     ]
    },
    {
     "name": "stdout",
     "output_type": "stream",
     "text": [
      "Epoch 33 val:mIoU: 0.5810, DSC: 0.3181\n",
      "Best model : epoch : 12  DSC : 0.3631\n",
      "Epoch: 34/80 --- < Starting Time : Mon Jul  1 09:10:38 2024 >\n",
      "-------------------------------------------------------------\n"
     ]
    },
    {
     "name": "stderr",
     "output_type": "stream",
     "text": [
      "100%|██████████| 65/65 [00:04<00:00, 15.15it/s]\n"
     ]
    },
    {
     "name": "stdout",
     "output_type": "stream",
     "text": [
      "Epoch34 loss : \n",
      "teacher 1 loss = 0.003353253472596407\n"
     ]
    },
    {
     "name": "stderr",
     "output_type": "stream",
     "text": [
      "100%|██████████| 162/162 [00:02<00:00, 64.26it/s]\n"
     ]
    },
    {
     "name": "stdout",
     "output_type": "stream",
     "text": [
      "Epoch 34 val:mIoU: 0.5750, DSC: 0.2999\n",
      "Best model : epoch : 12  DSC : 0.3631\n",
      "Epoch: 35/80 --- < Starting Time : Mon Jul  1 09:10:47 2024 >\n",
      "-------------------------------------------------------------\n"
     ]
    },
    {
     "name": "stderr",
     "output_type": "stream",
     "text": [
      "100%|██████████| 65/65 [00:04<00:00, 15.58it/s]\n"
     ]
    },
    {
     "name": "stdout",
     "output_type": "stream",
     "text": [
      "Epoch35 loss : \n",
      "teacher 1 loss = 0.003313880180940032\n"
     ]
    },
    {
     "name": "stderr",
     "output_type": "stream",
     "text": [
      "100%|██████████| 162/162 [00:02<00:00, 68.88it/s]\n"
     ]
    },
    {
     "name": "stdout",
     "output_type": "stream",
     "text": [
      "Epoch 35 val:mIoU: 0.5916, DSC: 0.3469\n",
      "Best model : epoch : 12  DSC : 0.3631\n",
      "Epoch: 36/80 --- < Starting Time : Mon Jul  1 09:10:55 2024 >\n",
      "-------------------------------------------------------------\n"
     ]
    },
    {
     "name": "stderr",
     "output_type": "stream",
     "text": [
      "100%|██████████| 65/65 [00:04<00:00, 15.40it/s]\n"
     ]
    },
    {
     "name": "stdout",
     "output_type": "stream",
     "text": [
      "Epoch36 loss : \n",
      "teacher 1 loss = 0.003193007782101631\n"
     ]
    },
    {
     "name": "stderr",
     "output_type": "stream",
     "text": [
      "100%|██████████| 162/162 [00:02<00:00, 69.72it/s]\n"
     ]
    },
    {
     "name": "stdout",
     "output_type": "stream",
     "text": [
      "Epoch 36 val:mIoU: 0.5876, DSC: 0.3301\n",
      "Best model : epoch : 12  DSC : 0.3631\n",
      "Epoch: 37/80 --- < Starting Time : Mon Jul  1 09:11:03 2024 >\n",
      "-------------------------------------------------------------\n"
     ]
    },
    {
     "name": "stderr",
     "output_type": "stream",
     "text": [
      "100%|██████████| 65/65 [00:04<00:00, 15.65it/s]\n"
     ]
    },
    {
     "name": "stdout",
     "output_type": "stream",
     "text": [
      "Epoch37 loss : \n",
      "teacher 1 loss = 0.0029866229742765427\n"
     ]
    },
    {
     "name": "stderr",
     "output_type": "stream",
     "text": [
      "100%|██████████| 162/162 [00:02<00:00, 70.18it/s]\n"
     ]
    },
    {
     "name": "stdout",
     "output_type": "stream",
     "text": [
      "Epoch 37 val:mIoU: 0.5877, DSC: 0.3324\n",
      "Best model : epoch : 12  DSC : 0.3631\n",
      "Epoch: 38/80 --- < Starting Time : Mon Jul  1 09:11:11 2024 >\n",
      "-------------------------------------------------------------\n"
     ]
    },
    {
     "name": "stderr",
     "output_type": "stream",
     "text": [
      "100%|██████████| 65/65 [00:04<00:00, 15.39it/s]\n"
     ]
    },
    {
     "name": "stdout",
     "output_type": "stream",
     "text": [
      "Epoch38 loss : \n",
      "teacher 1 loss = 0.0030997665598988533\n"
     ]
    },
    {
     "name": "stderr",
     "output_type": "stream",
     "text": [
      "100%|██████████| 162/162 [00:02<00:00, 68.94it/s]\n"
     ]
    },
    {
     "name": "stdout",
     "output_type": "stream",
     "text": [
      "Epoch 38 val:mIoU: 0.5837, DSC: 0.3178\n",
      "Best model : epoch : 12  DSC : 0.3631\n",
      "Epoch: 39/80 --- < Starting Time : Mon Jul  1 09:11:20 2024 >\n",
      "-------------------------------------------------------------\n"
     ]
    },
    {
     "name": "stderr",
     "output_type": "stream",
     "text": [
      "100%|██████████| 65/65 [00:04<00:00, 15.22it/s]\n"
     ]
    },
    {
     "name": "stdout",
     "output_type": "stream",
     "text": [
      "Epoch39 loss : \n",
      "teacher 1 loss = 0.0029771821573376656\n"
     ]
    },
    {
     "name": "stderr",
     "output_type": "stream",
     "text": [
      "100%|██████████| 162/162 [00:02<00:00, 67.65it/s]\n"
     ]
    },
    {
     "name": "stdout",
     "output_type": "stream",
     "text": [
      "Epoch 39 val:mIoU: 0.5865, DSC: 0.3310\n",
      "Best model : epoch : 12  DSC : 0.3631\n",
      "Epoch: 40/80 --- < Starting Time : Mon Jul  1 09:11:28 2024 >\n",
      "-------------------------------------------------------------\n"
     ]
    },
    {
     "name": "stderr",
     "output_type": "stream",
     "text": [
      "100%|██████████| 65/65 [00:04<00:00, 15.35it/s]\n"
     ]
    },
    {
     "name": "stdout",
     "output_type": "stream",
     "text": [
      "Epoch40 loss : \n",
      "teacher 1 loss = 0.0029654402751475573\n"
     ]
    },
    {
     "name": "stderr",
     "output_type": "stream",
     "text": [
      "100%|██████████| 162/162 [00:02<00:00, 69.74it/s]\n"
     ]
    },
    {
     "name": "stdout",
     "output_type": "stream",
     "text": [
      "Epoch 40 val:mIoU: 0.5797, DSC: 0.3099\n",
      "Best model : epoch : 12  DSC : 0.3631\n",
      "Epoch: 41/80 --- < Starting Time : Mon Jul  1 09:11:36 2024 >\n",
      "-------------------------------------------------------------\n"
     ]
    },
    {
     "name": "stderr",
     "output_type": "stream",
     "text": [
      "100%|██████████| 65/65 [00:04<00:00, 15.39it/s]\n"
     ]
    },
    {
     "name": "stdout",
     "output_type": "stream",
     "text": [
      "Epoch41 loss : \n",
      "teacher 1 loss = 0.002866273745894432\n"
     ]
    },
    {
     "name": "stderr",
     "output_type": "stream",
     "text": [
      "100%|██████████| 162/162 [00:02<00:00, 68.40it/s]\n"
     ]
    },
    {
     "name": "stdout",
     "output_type": "stream",
     "text": [
      "Epoch 41 val:mIoU: 0.5907, DSC: 0.3421\n",
      "Best model : epoch : 12  DSC : 0.3631\n",
      "Epoch: 42/80 --- < Starting Time : Mon Jul  1 09:11:45 2024 >\n",
      "-------------------------------------------------------------\n"
     ]
    },
    {
     "name": "stderr",
     "output_type": "stream",
     "text": [
      "100%|██████████| 65/65 [00:04<00:00, 15.68it/s]\n"
     ]
    },
    {
     "name": "stdout",
     "output_type": "stream",
     "text": [
      "Epoch42 loss : \n",
      "teacher 1 loss = 0.0028615326154977083\n"
     ]
    },
    {
     "name": "stderr",
     "output_type": "stream",
     "text": [
      "100%|██████████| 162/162 [00:02<00:00, 69.38it/s]\n"
     ]
    },
    {
     "name": "stdout",
     "output_type": "stream",
     "text": [
      "Epoch 42 val:mIoU: 0.5949, DSC: 0.3541\n",
      "Best model : epoch : 12  DSC : 0.3631\n",
      "Epoch: 43/80 --- < Starting Time : Mon Jul  1 09:11:53 2024 >\n",
      "-------------------------------------------------------------\n"
     ]
    },
    {
     "name": "stderr",
     "output_type": "stream",
     "text": [
      "100%|██████████| 65/65 [00:04<00:00, 15.08it/s]\n"
     ]
    },
    {
     "name": "stdout",
     "output_type": "stream",
     "text": [
      "Epoch43 loss : \n",
      "teacher 1 loss = 0.0027367500588297844\n"
     ]
    },
    {
     "name": "stderr",
     "output_type": "stream",
     "text": [
      "100%|██████████| 162/162 [00:02<00:00, 68.26it/s]\n"
     ]
    },
    {
     "name": "stdout",
     "output_type": "stream",
     "text": [
      "Epoch 43 val:mIoU: 0.5876, DSC: 0.3373\n",
      "Best model : epoch : 12  DSC : 0.3631\n",
      "Epoch: 44/80 --- < Starting Time : Mon Jul  1 09:12:01 2024 >\n",
      "-------------------------------------------------------------\n"
     ]
    },
    {
     "name": "stderr",
     "output_type": "stream",
     "text": [
      "100%|██████████| 65/65 [00:04<00:00, 15.37it/s]\n"
     ]
    },
    {
     "name": "stdout",
     "output_type": "stream",
     "text": [
      "Epoch44 loss : \n",
      "teacher 1 loss = 0.002678753575310111\n"
     ]
    },
    {
     "name": "stderr",
     "output_type": "stream",
     "text": [
      "100%|██████████| 162/162 [00:02<00:00, 69.45it/s]\n"
     ]
    },
    {
     "name": "stdout",
     "output_type": "stream",
     "text": [
      "Epoch 44 val:mIoU: 0.5759, DSC: 0.3031\n",
      "Best model : epoch : 12  DSC : 0.3631\n",
      "Epoch: 45/80 --- < Starting Time : Mon Jul  1 09:12:09 2024 >\n",
      "-------------------------------------------------------------\n"
     ]
    },
    {
     "name": "stderr",
     "output_type": "stream",
     "text": [
      "100%|██████████| 65/65 [00:04<00:00, 15.25it/s]\n"
     ]
    },
    {
     "name": "stdout",
     "output_type": "stream",
     "text": [
      "Epoch45 loss : \n",
      "teacher 1 loss = 0.0028997985646128654\n"
     ]
    },
    {
     "name": "stderr",
     "output_type": "stream",
     "text": [
      "100%|██████████| 162/162 [00:02<00:00, 69.04it/s]\n"
     ]
    },
    {
     "name": "stdout",
     "output_type": "stream",
     "text": [
      "Epoch 45 val:mIoU: 0.5751, DSC: 0.3068\n",
      "Best model : epoch : 12  DSC : 0.3631\n",
      "Epoch: 46/80 --- < Starting Time : Mon Jul  1 09:12:18 2024 >\n",
      "-------------------------------------------------------------\n"
     ]
    },
    {
     "name": "stderr",
     "output_type": "stream",
     "text": [
      "100%|██████████| 65/65 [00:04<00:00, 15.25it/s]\n"
     ]
    },
    {
     "name": "stdout",
     "output_type": "stream",
     "text": [
      "Epoch46 loss : \n",
      "teacher 1 loss = 0.0026988403405994177\n"
     ]
    },
    {
     "name": "stderr",
     "output_type": "stream",
     "text": [
      "100%|██████████| 162/162 [00:02<00:00, 68.08it/s]\n"
     ]
    },
    {
     "name": "stdout",
     "output_type": "stream",
     "text": [
      "Epoch 46 val:mIoU: 0.5896, DSC: 0.3387\n",
      "Best model : epoch : 12  DSC : 0.3631\n",
      "Epoch: 47/80 --- < Starting Time : Mon Jul  1 09:12:26 2024 >\n",
      "-------------------------------------------------------------\n"
     ]
    },
    {
     "name": "stderr",
     "output_type": "stream",
     "text": [
      "100%|██████████| 65/65 [00:04<00:00, 15.25it/s]\n"
     ]
    },
    {
     "name": "stdout",
     "output_type": "stream",
     "text": [
      "Epoch47 loss : \n",
      "teacher 1 loss = 0.002630294533446431\n"
     ]
    },
    {
     "name": "stderr",
     "output_type": "stream",
     "text": [
      "100%|██████████| 162/162 [00:02<00:00, 70.36it/s]\n"
     ]
    },
    {
     "name": "stdout",
     "output_type": "stream",
     "text": [
      "Epoch 47 val:mIoU: 0.5905, DSC: 0.3420\n",
      "Best model : epoch : 12  DSC : 0.3631\n",
      "Epoch: 48/80 --- < Starting Time : Mon Jul  1 09:12:34 2024 >\n",
      "-------------------------------------------------------------\n"
     ]
    },
    {
     "name": "stderr",
     "output_type": "stream",
     "text": [
      "100%|██████████| 65/65 [00:04<00:00, 15.35it/s]\n"
     ]
    },
    {
     "name": "stdout",
     "output_type": "stream",
     "text": [
      "Epoch48 loss : \n",
      "teacher 1 loss = 0.0026666258927434683\n"
     ]
    },
    {
     "name": "stderr",
     "output_type": "stream",
     "text": [
      "100%|██████████| 162/162 [00:02<00:00, 67.57it/s]\n"
     ]
    },
    {
     "name": "stdout",
     "output_type": "stream",
     "text": [
      "Epoch 48 val:mIoU: 0.5838, DSC: 0.3288\n",
      "Best model : epoch : 12  DSC : 0.3631\n",
      "Epoch: 49/80 --- < Starting Time : Mon Jul  1 09:12:42 2024 >\n",
      "-------------------------------------------------------------\n"
     ]
    },
    {
     "name": "stderr",
     "output_type": "stream",
     "text": [
      "100%|██████████| 65/65 [00:04<00:00, 15.50it/s]\n"
     ]
    },
    {
     "name": "stdout",
     "output_type": "stream",
     "text": [
      "Epoch49 loss : \n",
      "teacher 1 loss = 0.002524792682379484\n"
     ]
    },
    {
     "name": "stderr",
     "output_type": "stream",
     "text": [
      "100%|██████████| 162/162 [00:02<00:00, 67.68it/s]\n"
     ]
    },
    {
     "name": "stdout",
     "output_type": "stream",
     "text": [
      "Epoch 49 val:mIoU: 0.5815, DSC: 0.3166\n",
      "Best model : epoch : 12  DSC : 0.3631\n",
      "Epoch: 50/80 --- < Starting Time : Mon Jul  1 09:12:51 2024 >\n",
      "-------------------------------------------------------------\n"
     ]
    },
    {
     "name": "stderr",
     "output_type": "stream",
     "text": [
      "100%|██████████| 65/65 [00:04<00:00, 15.38it/s]\n"
     ]
    },
    {
     "name": "stdout",
     "output_type": "stream",
     "text": [
      "Epoch50 loss : \n",
      "teacher 1 loss = 0.002565442817285657\n"
     ]
    },
    {
     "name": "stderr",
     "output_type": "stream",
     "text": [
      "100%|██████████| 162/162 [00:02<00:00, 68.28it/s]\n"
     ]
    },
    {
     "name": "stdout",
     "output_type": "stream",
     "text": [
      "Epoch 50 val:mIoU: 0.5818, DSC: 0.3219\n",
      "Best model : epoch : 12  DSC : 0.3631\n",
      "Epoch: 51/80 --- < Starting Time : Mon Jul  1 09:12:59 2024 >\n",
      "-------------------------------------------------------------\n"
     ]
    },
    {
     "name": "stderr",
     "output_type": "stream",
     "text": [
      "100%|██████████| 65/65 [00:04<00:00, 15.41it/s]\n"
     ]
    },
    {
     "name": "stdout",
     "output_type": "stream",
     "text": [
      "Epoch51 loss : \n",
      "teacher 1 loss = 0.0024950518272817135\n"
     ]
    },
    {
     "name": "stderr",
     "output_type": "stream",
     "text": [
      "100%|██████████| 162/162 [00:02<00:00, 70.32it/s]\n"
     ]
    },
    {
     "name": "stdout",
     "output_type": "stream",
     "text": [
      "Epoch 51 val:mIoU: 0.5859, DSC: 0.3292\n",
      "Best model : epoch : 12  DSC : 0.3631\n",
      "Epoch: 52/80 --- < Starting Time : Mon Jul  1 09:13:07 2024 >\n",
      "-------------------------------------------------------------\n"
     ]
    },
    {
     "name": "stderr",
     "output_type": "stream",
     "text": [
      "100%|██████████| 65/65 [00:04<00:00, 15.63it/s]\n"
     ]
    },
    {
     "name": "stdout",
     "output_type": "stream",
     "text": [
      "Epoch52 loss : \n",
      "teacher 1 loss = 0.002346013905480504\n"
     ]
    },
    {
     "name": "stderr",
     "output_type": "stream",
     "text": [
      "100%|██████████| 162/162 [00:02<00:00, 68.90it/s]\n"
     ]
    },
    {
     "name": "stdout",
     "output_type": "stream",
     "text": [
      "Epoch 52 val:mIoU: 0.5889, DSC: 0.3374\n",
      "Best model : epoch : 12  DSC : 0.3631\n",
      "Epoch: 53/80 --- < Starting Time : Mon Jul  1 09:13:15 2024 >\n",
      "-------------------------------------------------------------\n"
     ]
    },
    {
     "name": "stderr",
     "output_type": "stream",
     "text": [
      "100%|██████████| 65/65 [00:04<00:00, 15.49it/s]\n"
     ]
    },
    {
     "name": "stdout",
     "output_type": "stream",
     "text": [
      "Epoch53 loss : \n",
      "teacher 1 loss = 0.0023362631909549236\n"
     ]
    },
    {
     "name": "stderr",
     "output_type": "stream",
     "text": [
      "100%|██████████| 162/162 [00:02<00:00, 69.06it/s]\n"
     ]
    },
    {
     "name": "stdout",
     "output_type": "stream",
     "text": [
      "Epoch 53 val:mIoU: 0.5809, DSC: 0.3174\n",
      "Best model : epoch : 12  DSC : 0.3631\n",
      "Epoch: 54/80 --- < Starting Time : Mon Jul  1 09:13:24 2024 >\n",
      "-------------------------------------------------------------\n"
     ]
    },
    {
     "name": "stderr",
     "output_type": "stream",
     "text": [
      "100%|██████████| 65/65 [00:04<00:00, 15.61it/s]\n"
     ]
    },
    {
     "name": "stdout",
     "output_type": "stream",
     "text": [
      "Epoch54 loss : \n",
      "teacher 1 loss = 0.002276236657053232\n"
     ]
    },
    {
     "name": "stderr",
     "output_type": "stream",
     "text": [
      "100%|██████████| 162/162 [00:02<00:00, 67.71it/s]\n"
     ]
    },
    {
     "name": "stdout",
     "output_type": "stream",
     "text": [
      "Epoch 54 val:mIoU: 0.5834, DSC: 0.3237\n",
      "Best model : epoch : 12  DSC : 0.3631\n",
      "Epoch: 55/80 --- < Starting Time : Mon Jul  1 09:13:32 2024 >\n",
      "-------------------------------------------------------------\n"
     ]
    },
    {
     "name": "stderr",
     "output_type": "stream",
     "text": [
      "100%|██████████| 65/65 [00:04<00:00, 15.46it/s]\n"
     ]
    },
    {
     "name": "stdout",
     "output_type": "stream",
     "text": [
      "Epoch55 loss : \n",
      "teacher 1 loss = 0.002651506569236517\n"
     ]
    },
    {
     "name": "stderr",
     "output_type": "stream",
     "text": [
      "100%|██████████| 162/162 [00:02<00:00, 69.12it/s]\n"
     ]
    },
    {
     "name": "stdout",
     "output_type": "stream",
     "text": [
      "Epoch 55 val:mIoU: 0.5865, DSC: 0.3323\n",
      "Best model : epoch : 12  DSC : 0.3631\n",
      "Epoch: 56/80 --- < Starting Time : Mon Jul  1 09:13:40 2024 >\n",
      "-------------------------------------------------------------\n"
     ]
    },
    {
     "name": "stderr",
     "output_type": "stream",
     "text": [
      "100%|██████████| 65/65 [00:04<00:00, 15.05it/s]\n"
     ]
    },
    {
     "name": "stdout",
     "output_type": "stream",
     "text": [
      "Epoch56 loss : \n",
      "teacher 1 loss = 0.002551412209868431\n"
     ]
    },
    {
     "name": "stderr",
     "output_type": "stream",
     "text": [
      "100%|██████████| 162/162 [00:02<00:00, 68.10it/s]\n"
     ]
    },
    {
     "name": "stdout",
     "output_type": "stream",
     "text": [
      "Epoch 56 val:mIoU: 0.5866, DSC: 0.3301\n",
      "Best model : epoch : 12  DSC : 0.3631\n",
      "Epoch: 57/80 --- < Starting Time : Mon Jul  1 09:13:48 2024 >\n",
      "-------------------------------------------------------------\n"
     ]
    },
    {
     "name": "stderr",
     "output_type": "stream",
     "text": [
      "100%|██████████| 65/65 [00:04<00:00, 15.23it/s]\n"
     ]
    },
    {
     "name": "stdout",
     "output_type": "stream",
     "text": [
      "Epoch57 loss : \n",
      "teacher 1 loss = 0.0023916095960885286\n"
     ]
    },
    {
     "name": "stderr",
     "output_type": "stream",
     "text": [
      "100%|██████████| 162/162 [00:02<00:00, 68.09it/s]\n"
     ]
    },
    {
     "name": "stdout",
     "output_type": "stream",
     "text": [
      "Epoch 57 val:mIoU: 0.5899, DSC: 0.3381\n",
      "Best model : epoch : 12  DSC : 0.3631\n",
      "Epoch: 58/80 --- < Starting Time : Mon Jul  1 09:13:57 2024 >\n",
      "-------------------------------------------------------------\n"
     ]
    },
    {
     "name": "stderr",
     "output_type": "stream",
     "text": [
      "100%|██████████| 65/65 [00:04<00:00, 15.30it/s]\n"
     ]
    },
    {
     "name": "stdout",
     "output_type": "stream",
     "text": [
      "Epoch58 loss : \n",
      "teacher 1 loss = 0.0023140108678489923\n"
     ]
    },
    {
     "name": "stderr",
     "output_type": "stream",
     "text": [
      "100%|██████████| 162/162 [00:02<00:00, 69.23it/s]\n"
     ]
    },
    {
     "name": "stdout",
     "output_type": "stream",
     "text": [
      "Epoch 58 val:mIoU: 0.5916, DSC: 0.3413\n",
      "Best model : epoch : 12  DSC : 0.3631\n",
      "Epoch: 59/80 --- < Starting Time : Mon Jul  1 09:14:05 2024 >\n",
      "-------------------------------------------------------------\n"
     ]
    },
    {
     "name": "stderr",
     "output_type": "stream",
     "text": [
      "100%|██████████| 65/65 [00:04<00:00, 15.13it/s]\n"
     ]
    },
    {
     "name": "stdout",
     "output_type": "stream",
     "text": [
      "Epoch59 loss : \n",
      "teacher 1 loss = 0.0022707758471369743\n"
     ]
    },
    {
     "name": "stderr",
     "output_type": "stream",
     "text": [
      "100%|██████████| 162/162 [00:02<00:00, 69.09it/s]\n"
     ]
    },
    {
     "name": "stdout",
     "output_type": "stream",
     "text": [
      "Epoch 59 val:mIoU: 0.5908, DSC: 0.3401\n",
      "Best model : epoch : 12  DSC : 0.3631\n",
      "Epoch: 60/80 --- < Starting Time : Mon Jul  1 09:14:13 2024 >\n",
      "-------------------------------------------------------------\n"
     ]
    },
    {
     "name": "stderr",
     "output_type": "stream",
     "text": [
      "100%|██████████| 65/65 [00:04<00:00, 15.08it/s]\n"
     ]
    },
    {
     "name": "stdout",
     "output_type": "stream",
     "text": [
      "Epoch60 loss : \n",
      "teacher 1 loss = 0.002377791330218315\n"
     ]
    },
    {
     "name": "stderr",
     "output_type": "stream",
     "text": [
      "100%|██████████| 162/162 [00:02<00:00, 67.49it/s]\n"
     ]
    },
    {
     "name": "stdout",
     "output_type": "stream",
     "text": [
      "Epoch 60 val:mIoU: 0.5807, DSC: 0.3156\n",
      "Best model : epoch : 12  DSC : 0.3631\n",
      "Epoch: 61/80 --- < Starting Time : Mon Jul  1 09:14:22 2024 >\n",
      "-------------------------------------------------------------\n"
     ]
    },
    {
     "name": "stderr",
     "output_type": "stream",
     "text": [
      "100%|██████████| 65/65 [00:04<00:00, 15.30it/s]\n"
     ]
    },
    {
     "name": "stdout",
     "output_type": "stream",
     "text": [
      "Epoch61 loss : \n",
      "teacher 1 loss = 0.002260207198560238\n"
     ]
    },
    {
     "name": "stderr",
     "output_type": "stream",
     "text": [
      "100%|██████████| 162/162 [00:02<00:00, 69.17it/s]\n"
     ]
    },
    {
     "name": "stdout",
     "output_type": "stream",
     "text": [
      "Epoch 61 val:mIoU: 0.5815, DSC: 0.3206\n",
      "Best model : epoch : 12  DSC : 0.3631\n",
      "Epoch: 62/80 --- < Starting Time : Mon Jul  1 09:14:30 2024 >\n",
      "-------------------------------------------------------------\n"
     ]
    },
    {
     "name": "stderr",
     "output_type": "stream",
     "text": [
      "100%|██████████| 65/65 [00:04<00:00, 15.69it/s]\n"
     ]
    },
    {
     "name": "stdout",
     "output_type": "stream",
     "text": [
      "Epoch62 loss : \n",
      "teacher 1 loss = 0.0021960691083222628\n"
     ]
    },
    {
     "name": "stderr",
     "output_type": "stream",
     "text": [
      "100%|██████████| 162/162 [00:02<00:00, 68.83it/s]\n"
     ]
    },
    {
     "name": "stdout",
     "output_type": "stream",
     "text": [
      "Epoch 62 val:mIoU: 0.5865, DSC: 0.3308\n",
      "Best model : epoch : 12  DSC : 0.3631\n",
      "Epoch: 63/80 --- < Starting Time : Mon Jul  1 09:14:38 2024 >\n",
      "-------------------------------------------------------------\n"
     ]
    },
    {
     "name": "stderr",
     "output_type": "stream",
     "text": [
      "100%|██████████| 65/65 [00:04<00:00, 15.37it/s]\n"
     ]
    },
    {
     "name": "stdout",
     "output_type": "stream",
     "text": [
      "Epoch63 loss : \n",
      "teacher 1 loss = 0.0020825774408876896\n"
     ]
    },
    {
     "name": "stderr",
     "output_type": "stream",
     "text": [
      "100%|██████████| 162/162 [00:02<00:00, 69.12it/s]\n"
     ]
    },
    {
     "name": "stdout",
     "output_type": "stream",
     "text": [
      "Epoch 63 val:mIoU: 0.5920, DSC: 0.3421\n",
      "Best model : epoch : 12  DSC : 0.3631\n",
      "Epoch: 64/80 --- < Starting Time : Mon Jul  1 09:14:46 2024 >\n",
      "-------------------------------------------------------------\n"
     ]
    },
    {
     "name": "stderr",
     "output_type": "stream",
     "text": [
      "100%|██████████| 65/65 [00:04<00:00, 15.44it/s]\n"
     ]
    },
    {
     "name": "stdout",
     "output_type": "stream",
     "text": [
      "Epoch64 loss : \n",
      "teacher 1 loss = 0.002139075892046094\n"
     ]
    },
    {
     "name": "stderr",
     "output_type": "stream",
     "text": [
      "100%|██████████| 162/162 [00:02<00:00, 69.27it/s]\n"
     ]
    },
    {
     "name": "stdout",
     "output_type": "stream",
     "text": [
      "Epoch 64 val:mIoU: 0.5887, DSC: 0.3339\n",
      "Best model : epoch : 12  DSC : 0.3631\n",
      "Epoch: 65/80 --- < Starting Time : Mon Jul  1 09:14:55 2024 >\n",
      "-------------------------------------------------------------\n"
     ]
    },
    {
     "name": "stderr",
     "output_type": "stream",
     "text": [
      "100%|██████████| 65/65 [00:04<00:00, 15.50it/s]\n"
     ]
    },
    {
     "name": "stdout",
     "output_type": "stream",
     "text": [
      "Epoch65 loss : \n",
      "teacher 1 loss = 0.002144521102309227\n"
     ]
    },
    {
     "name": "stderr",
     "output_type": "stream",
     "text": [
      "100%|██████████| 162/162 [00:02<00:00, 68.58it/s]\n"
     ]
    },
    {
     "name": "stdout",
     "output_type": "stream",
     "text": [
      "Epoch 65 val:mIoU: 0.5866, DSC: 0.3291\n",
      "Best model : epoch : 12  DSC : 0.3631\n",
      "Epoch: 66/80 --- < Starting Time : Mon Jul  1 09:15:03 2024 >\n",
      "-------------------------------------------------------------\n"
     ]
    },
    {
     "name": "stderr",
     "output_type": "stream",
     "text": [
      "100%|██████████| 65/65 [00:04<00:00, 15.65it/s]\n"
     ]
    },
    {
     "name": "stdout",
     "output_type": "stream",
     "text": [
      "Epoch66 loss : \n",
      "teacher 1 loss = 0.0020118760876357555\n"
     ]
    },
    {
     "name": "stderr",
     "output_type": "stream",
     "text": [
      "100%|██████████| 162/162 [00:02<00:00, 67.26it/s]\n"
     ]
    },
    {
     "name": "stdout",
     "output_type": "stream",
     "text": [
      "Epoch 66 val:mIoU: 0.5915, DSC: 0.3423\n",
      "Best model : epoch : 12  DSC : 0.3631\n",
      "Epoch: 67/80 --- < Starting Time : Mon Jul  1 09:15:11 2024 >\n",
      "-------------------------------------------------------------\n"
     ]
    },
    {
     "name": "stderr",
     "output_type": "stream",
     "text": [
      "100%|██████████| 65/65 [00:04<00:00, 15.28it/s]\n"
     ]
    },
    {
     "name": "stdout",
     "output_type": "stream",
     "text": [
      "Epoch67 loss : \n",
      "teacher 1 loss = 0.002096404554322362\n"
     ]
    },
    {
     "name": "stderr",
     "output_type": "stream",
     "text": [
      "100%|██████████| 162/162 [00:02<00:00, 67.57it/s]\n"
     ]
    },
    {
     "name": "stdout",
     "output_type": "stream",
     "text": [
      "Epoch 67 val:mIoU: 0.5807, DSC: 0.3147\n",
      "Best model : epoch : 12  DSC : 0.3631\n",
      "Epoch: 68/80 --- < Starting Time : Mon Jul  1 09:15:19 2024 >\n",
      "-------------------------------------------------------------\n"
     ]
    },
    {
     "name": "stderr",
     "output_type": "stream",
     "text": [
      "100%|██████████| 65/65 [00:04<00:00, 15.49it/s]\n"
     ]
    },
    {
     "name": "stdout",
     "output_type": "stream",
     "text": [
      "Epoch68 loss : \n",
      "teacher 1 loss = 0.0020296648144721985\n"
     ]
    },
    {
     "name": "stderr",
     "output_type": "stream",
     "text": [
      "100%|██████████| 162/162 [00:02<00:00, 69.42it/s]\n"
     ]
    },
    {
     "name": "stdout",
     "output_type": "stream",
     "text": [
      "Epoch 68 val:mIoU: 0.5875, DSC: 0.3353\n",
      "Best model : epoch : 12  DSC : 0.3631\n",
      "Epoch: 69/80 --- < Starting Time : Mon Jul  1 09:15:28 2024 >\n",
      "-------------------------------------------------------------\n"
     ]
    },
    {
     "name": "stderr",
     "output_type": "stream",
     "text": [
      "100%|██████████| 65/65 [00:04<00:00, 15.48it/s]\n"
     ]
    },
    {
     "name": "stdout",
     "output_type": "stream",
     "text": [
      "Epoch69 loss : \n",
      "teacher 1 loss = 0.0019885743968188763\n"
     ]
    },
    {
     "name": "stderr",
     "output_type": "stream",
     "text": [
      "100%|██████████| 162/162 [00:02<00:00, 69.50it/s]\n"
     ]
    },
    {
     "name": "stdout",
     "output_type": "stream",
     "text": [
      "Epoch 69 val:mIoU: 0.5877, DSC: 0.3330\n",
      "Best model : epoch : 12  DSC : 0.3631\n",
      "Epoch: 70/80 --- < Starting Time : Mon Jul  1 09:15:36 2024 >\n",
      "-------------------------------------------------------------\n"
     ]
    },
    {
     "name": "stderr",
     "output_type": "stream",
     "text": [
      "100%|██████████| 65/65 [00:04<00:00, 15.35it/s]\n"
     ]
    },
    {
     "name": "stdout",
     "output_type": "stream",
     "text": [
      "Epoch70 loss : \n",
      "teacher 1 loss = 0.0019097992917522788\n"
     ]
    },
    {
     "name": "stderr",
     "output_type": "stream",
     "text": [
      "100%|██████████| 162/162 [00:02<00:00, 67.71it/s]\n"
     ]
    },
    {
     "name": "stdout",
     "output_type": "stream",
     "text": [
      "Epoch 70 val:mIoU: 0.5922, DSC: 0.3458\n",
      "Best model : epoch : 12  DSC : 0.3631\n",
      "Epoch: 71/80 --- < Starting Time : Mon Jul  1 09:15:44 2024 >\n",
      "-------------------------------------------------------------\n"
     ]
    },
    {
     "name": "stderr",
     "output_type": "stream",
     "text": [
      "100%|██████████| 65/65 [00:04<00:00, 15.11it/s]\n"
     ]
    },
    {
     "name": "stdout",
     "output_type": "stream",
     "text": [
      "Epoch71 loss : \n",
      "teacher 1 loss = 0.0018621827475726604\n"
     ]
    },
    {
     "name": "stderr",
     "output_type": "stream",
     "text": [
      "100%|██████████| 162/162 [00:02<00:00, 69.73it/s]\n"
     ]
    },
    {
     "name": "stdout",
     "output_type": "stream",
     "text": [
      "Epoch 71 val:mIoU: 0.5867, DSC: 0.3318\n",
      "Best model : epoch : 12  DSC : 0.3631\n",
      "Epoch: 72/80 --- < Starting Time : Mon Jul  1 09:15:52 2024 >\n",
      "-------------------------------------------------------------\n"
     ]
    },
    {
     "name": "stderr",
     "output_type": "stream",
     "text": [
      "100%|██████████| 65/65 [00:04<00:00, 15.63it/s]\n"
     ]
    },
    {
     "name": "stdout",
     "output_type": "stream",
     "text": [
      "Epoch72 loss : \n",
      "teacher 1 loss = 0.0019068202236667275\n"
     ]
    },
    {
     "name": "stderr",
     "output_type": "stream",
     "text": [
      "100%|██████████| 162/162 [00:02<00:00, 68.94it/s]\n"
     ]
    },
    {
     "name": "stdout",
     "output_type": "stream",
     "text": [
      "Epoch 72 val:mIoU: 0.5873, DSC: 0.3306\n",
      "Best model : epoch : 12  DSC : 0.3631\n",
      "Epoch: 73/80 --- < Starting Time : Mon Jul  1 09:16:01 2024 >\n",
      "-------------------------------------------------------------\n"
     ]
    },
    {
     "name": "stderr",
     "output_type": "stream",
     "text": [
      "100%|██████████| 65/65 [00:04<00:00, 15.56it/s]\n"
     ]
    },
    {
     "name": "stdout",
     "output_type": "stream",
     "text": [
      "Epoch73 loss : \n",
      "teacher 1 loss = 0.0018195384182035923\n"
     ]
    },
    {
     "name": "stderr",
     "output_type": "stream",
     "text": [
      "100%|██████████| 162/162 [00:02<00:00, 69.12it/s]\n"
     ]
    },
    {
     "name": "stdout",
     "output_type": "stream",
     "text": [
      "Epoch 73 val:mIoU: 0.5793, DSC: 0.3151\n",
      "Best model : epoch : 12  DSC : 0.3631\n",
      "Epoch: 74/80 --- < Starting Time : Mon Jul  1 09:16:09 2024 >\n",
      "-------------------------------------------------------------\n"
     ]
    },
    {
     "name": "stderr",
     "output_type": "stream",
     "text": [
      "100%|██████████| 65/65 [00:04<00:00, 15.43it/s]\n"
     ]
    },
    {
     "name": "stdout",
     "output_type": "stream",
     "text": [
      "Epoch74 loss : \n",
      "teacher 1 loss = 0.001822426449507475\n"
     ]
    },
    {
     "name": "stderr",
     "output_type": "stream",
     "text": [
      "100%|██████████| 162/162 [00:02<00:00, 67.50it/s]\n"
     ]
    },
    {
     "name": "stdout",
     "output_type": "stream",
     "text": [
      "Epoch 74 val:mIoU: 0.5825, DSC: 0.3213\n",
      "Best model : epoch : 12  DSC : 0.3631\n",
      "Epoch: 75/80 --- < Starting Time : Mon Jul  1 09:16:17 2024 >\n",
      "-------------------------------------------------------------\n"
     ]
    },
    {
     "name": "stderr",
     "output_type": "stream",
     "text": [
      "100%|██████████| 65/65 [00:04<00:00, 15.52it/s]\n"
     ]
    },
    {
     "name": "stdout",
     "output_type": "stream",
     "text": [
      "Epoch75 loss : \n",
      "teacher 1 loss = 0.0018584390636533499\n"
     ]
    },
    {
     "name": "stderr",
     "output_type": "stream",
     "text": [
      "100%|██████████| 162/162 [00:02<00:00, 68.37it/s]\n"
     ]
    },
    {
     "name": "stdout",
     "output_type": "stream",
     "text": [
      "Epoch 75 val:mIoU: 0.5794, DSC: 0.3102\n",
      "Best model : epoch : 12  DSC : 0.3631\n",
      "Epoch: 76/80 --- < Starting Time : Mon Jul  1 09:16:25 2024 >\n",
      "-------------------------------------------------------------\n"
     ]
    },
    {
     "name": "stderr",
     "output_type": "stream",
     "text": [
      "100%|██████████| 65/65 [00:04<00:00, 15.57it/s]\n"
     ]
    },
    {
     "name": "stdout",
     "output_type": "stream",
     "text": [
      "Epoch76 loss : \n",
      "teacher 1 loss = 0.001790460548363626\n"
     ]
    },
    {
     "name": "stderr",
     "output_type": "stream",
     "text": [
      "100%|██████████| 162/162 [00:02<00:00, 67.81it/s]\n"
     ]
    },
    {
     "name": "stdout",
     "output_type": "stream",
     "text": [
      "Epoch 76 val:mIoU: 0.5850, DSC: 0.3269\n",
      "Best model : epoch : 12  DSC : 0.3631\n",
      "Epoch: 77/80 --- < Starting Time : Mon Jul  1 09:16:34 2024 >\n",
      "-------------------------------------------------------------\n"
     ]
    },
    {
     "name": "stderr",
     "output_type": "stream",
     "text": [
      "100%|██████████| 65/65 [00:04<00:00, 15.35it/s]\n"
     ]
    },
    {
     "name": "stdout",
     "output_type": "stream",
     "text": [
      "Epoch77 loss : \n",
      "teacher 1 loss = 0.0017846828559413552\n"
     ]
    },
    {
     "name": "stderr",
     "output_type": "stream",
     "text": [
      "100%|██████████| 162/162 [00:02<00:00, 68.26it/s]\n"
     ]
    },
    {
     "name": "stdout",
     "output_type": "stream",
     "text": [
      "Epoch 77 val:mIoU: 0.5891, DSC: 0.3396\n",
      "Best model : epoch : 12  DSC : 0.3631\n",
      "Epoch: 78/80 --- < Starting Time : Mon Jul  1 09:16:42 2024 >\n",
      "-------------------------------------------------------------\n"
     ]
    },
    {
     "name": "stderr",
     "output_type": "stream",
     "text": [
      "100%|██████████| 65/65 [00:04<00:00, 15.28it/s]\n"
     ]
    },
    {
     "name": "stdout",
     "output_type": "stream",
     "text": [
      "Epoch78 loss : \n",
      "teacher 1 loss = 0.0017563108121976256\n"
     ]
    },
    {
     "name": "stderr",
     "output_type": "stream",
     "text": [
      "100%|██████████| 162/162 [00:02<00:00, 68.63it/s]\n"
     ]
    },
    {
     "name": "stdout",
     "output_type": "stream",
     "text": [
      "Epoch 78 val:mIoU: 0.5775, DSC: 0.3086\n",
      "Best model : epoch : 12  DSC : 0.3631\n",
      "Epoch: 79/80 --- < Starting Time : Mon Jul  1 09:16:50 2024 >\n",
      "-------------------------------------------------------------\n"
     ]
    },
    {
     "name": "stderr",
     "output_type": "stream",
     "text": [
      "100%|██████████| 65/65 [00:04<00:00, 15.15it/s]\n"
     ]
    },
    {
     "name": "stdout",
     "output_type": "stream",
     "text": [
      "Epoch79 loss : \n",
      "teacher 1 loss = 0.001722907880321145\n"
     ]
    },
    {
     "name": "stderr",
     "output_type": "stream",
     "text": [
      "100%|██████████| 162/162 [00:02<00:00, 68.41it/s]\n"
     ]
    },
    {
     "name": "stdout",
     "output_type": "stream",
     "text": [
      "Epoch 79 val:mIoU: 0.5867, DSC: 0.3329\n",
      "Best model : epoch : 12  DSC : 0.3631\n",
      "Epoch: 80/80 --- < Starting Time : Mon Jul  1 09:16:59 2024 >\n",
      "-------------------------------------------------------------\n"
     ]
    },
    {
     "name": "stderr",
     "output_type": "stream",
     "text": [
      "100%|██████████| 65/65 [00:04<00:00, 15.57it/s]\n"
     ]
    },
    {
     "name": "stdout",
     "output_type": "stream",
     "text": [
      "Epoch80 loss : \n",
      "teacher 1 loss = 0.001781016355380416\n"
     ]
    },
    {
     "name": "stderr",
     "output_type": "stream",
     "text": [
      "100%|██████████| 162/162 [00:02<00:00, 69.08it/s]\n"
     ]
    },
    {
     "name": "stdout",
     "output_type": "stream",
     "text": [
      "Epoch 80 val:mIoU: 0.5842, DSC: 0.3246\n",
      "Best model : epoch : 12  DSC : 0.3631\n"
     ]
    }
   ],
   "source": [
    "# warm\n",
    "from Utils.early_stop import EarlyStopping\n",
    "\n",
    "best_model_t1_params = copy.deepcopy(model_t1.state_dict())\n",
    "do_best_Dice = 0\n",
    "do_best_mIoU = 0\n",
    "do_best_epoch = 0\n",
    "\n",
    "for epoch in range(config['model']['warm_up_epoch']):\n",
    "\n",
    "    epoch_loss_t1 = 0\n",
    "\n",
    "    t1_mIoU, t1_mDice = 0, 0\n",
    "\n",
    "    \n",
    "    localtime = time.asctime( time.localtime(time.time()) )\n",
    "    print('Epoch: {}/{} --- < Starting Time : {} >'.format(epoch + 1,config['model']['warm_up_epoch'],localtime))\n",
    "    print('-' * len('Epoch: {}/{} --- < Starting Time : {} >'.format(epoch + 1,config['model']['warm_up_epoch'],localtime)))\n",
    "\n",
    "    folder_name = None\n",
    "    folder_name = os.path.join(\"see_image\")\n",
    "    os.makedirs(folder_name, exist_ok=True)\n",
    "\n",
    "    for batch in tqdm(supervised_loader):\n",
    "        image_FA, image_ICG, target_l, id_l = batch\n",
    "        image_FA, image_ICG, target_l, id_l = image_FA.to(device), image_ICG.to(device), target_l.to(device), id_l\n",
    "\n",
    "        # warm teacher 1\n",
    "        model_t1.train()\n",
    "        optimizer_t1.zero_grad()\n",
    "        loss_t1, outputs = model_t1(x_FA=image_FA, x_ICG=image_ICG, target_l=target_l,\n",
    "                           warm_up=True,mix_up=False)\n",
    "\n",
    "        epoch_loss_t1 += loss_t1\n",
    "        loss_t1.backward()\n",
    "        optimizer_t1.step()\n",
    "\n",
    "    print(f'Epoch{epoch+1} loss : \\nteacher 1 loss = {epoch_loss_t1/len(supervised_set)}')\n",
    "\n",
    "    # valiation\n",
    "    model_t1.eval()\n",
    "    for batch in tqdm(val_loader):\n",
    "        image_val, label, id_val = batch\n",
    "        image_val, label, id_val = image_val.to(device), label.to(device), id_val\n",
    "\n",
    "        H, W = label.size(1), label.size(2)\n",
    "        up_sizes = (ceil(H / 8) * 8, ceil(W / 8) * 8)\n",
    "\n",
    "        for i in range(0, int(label.size(0))):\n",
    "            folder_val = os.path.join(folder_name, \"val_target\")\n",
    "            os.makedirs(folder_val, exist_ok=True)\n",
    "            image = Image.fromarray(np.uint8(label[i].detach().cpu().numpy()))\n",
    "            image.save(os.path.join(folder_val, str(id_val[i]) + \".png\"))\n",
    "\n",
    "        data = torch.nn.functional.interpolate(image_val, size=(up_sizes[0], up_sizes[1]),\n",
    "                                               mode='bilinear', align_corners=True)\n",
    "        loss_t1, outputs = model_t1(x_FA=data, x_ICG=data, target_l=label,\n",
    "                                    warm_up=True,mix_up=False)\n",
    "        output = outputs[\"sup_pred\"]\n",
    "\n",
    "        for i in range(0, int(output.size(0))):\n",
    "            folder_val_prob = os.path.join(folder_name, \"val_prob\")\n",
    "            os.makedirs(folder_val_prob, exist_ok=True)\n",
    "            image_prob = output[i].squeeze().detach()\n",
    "            image_prob = torch.argmax(image_prob, dim=0).cpu().numpy()\n",
    "            image_prob = Image.fromarray((image_prob * 255).astype(np.uint8))\n",
    "            image_prob.save(os.path.join(folder_val_prob, str(id_val[i]) + \".png\"))\n",
    "    \n",
    "    # show epoch mIoU, mDice\n",
    "    index_mIoU, index_mDice = count_index(folder_val_prob, folder_val)\n",
    "    print(f'Epoch {epoch+1}' + \" val:\" + f'mIoU: {index_mIoU:.4f}, DSC: {index_mDice:.4f}')\n",
    "\n",
    "    # find the best mIoU, mDice\n",
    "    if index_mDice > do_best_Dice:\n",
    "        do_best_Dice = index_mDice\n",
    "        do_best_mIoU = index_mIoU\n",
    "        do_best_epoch = epoch+1\n",
    "        best_model_t1_params = copy.deepcopy(model_t1.state_dict())\n",
    "        print(\"Change Best: \" + f'epoch: {do_best_epoch}, mIoU: {do_best_mIoU:.4f}, DSC: {do_best_Dice:.4f}]')\n",
    "\n",
    "        # save the best valiation prod\n",
    "        folder_val_best_prob = os.path.join(folder_name, \"val_original_best_prob\")\n",
    "        os.makedirs(folder_val_best_prob, exist_ok=True)\n",
    "        file_names = os.listdir(folder_val_prob)\n",
    "        for file_name in file_names:\n",
    "            source_path = os.path.join(folder_val_prob, file_name)\n",
    "            destination_path = os.path.join(folder_val_best_prob, file_name)\n",
    "            shutil.copyfile(source_path, destination_path)\n",
    "    \n",
    "    # show the best mIoU, mDice\n",
    "    print(\"Best model : \" + f'epoch : {do_best_epoch}  DSC : {do_best_Dice:.4f}')\n",
    "\n",
    "model_path = None\n",
    "model_path = os.path.join(\"saved_models\")\n",
    "os.makedirs(model_path, exist_ok=True)\n",
    "torch.save(best_model_t1_params, os.path.join(model_path, f'original_epoch_{do_best_epoch}_dsc_{do_best_Dice:.4f}_best_t1.pth'))\n",
    "\n"
   ]
  },
  {
   "cell_type": "code",
   "execution_count": 7,
   "metadata": {},
   "outputs": [
    {
     "name": "stderr",
     "output_type": "stream",
     "text": [
      "100%|██████████| 157/157 [00:02<00:00, 67.37it/s]\n"
     ]
    },
    {
     "name": "stdout",
     "output_type": "stream",
     "text": [
      "Test  original : mIoU: 0.5811, DSC: 0.3340\n"
     ]
    }
   ],
   "source": [
    "# PRED_MODEL_t1 = os.path.join(model_path, f'original_epoch_{do_best_epoch}_dsc_{do_best_Dice:.4f}_best_t1.pth')\n",
    "PRED_MODEL_t1 = './saved_models/deeplabV3/original_epoch_5_dsc_0.3550_best_t1.pth'\n",
    "\n",
    "model_t1.load_state_dict(torch.load(PRED_MODEL_t1, map_location=device))\n",
    "\n",
    "folder_name = None\n",
    "folder_name = os.path.join(\"see_image\")\n",
    "os.makedirs(folder_name, exist_ok=True)\n",
    "\n",
    "# Test\n",
    "model_t1.eval()\n",
    "for batch in tqdm(test_loader):\n",
    "    image_test, label, id_test = batch\n",
    "    image_test, label, id_test = image_test.to(device), label.to(device), id_test\n",
    "\n",
    "    H, W = label.size(1), label.size(2)\n",
    "    up_sizes = (ceil(H / 8) * 8, ceil(W / 8) * 8)\n",
    "\n",
    "    for i in range(0, int(label.size(0))):\n",
    "        folder_test = os.path.join(folder_name, \"test_target\")\n",
    "        os.makedirs(folder_test, exist_ok=True)\n",
    "        image = Image.fromarray(np.uint8(label[i].detach().cpu().numpy()))\n",
    "        image.save(os.path.join(folder_test, str(id_test[i]) + \".png\"))\n",
    "\n",
    "    data = torch.nn.functional.interpolate(image_test, size=(up_sizes[0], up_sizes[1]),\n",
    "                                               mode='bilinear', align_corners=True)\n",
    "    loss_t1, outputs = model_t1(x_FA=data, x_ICG=data, target_l=label,\n",
    "                                warm_up=True,mix_up=False)\n",
    "    output = outputs[\"sup_pred\"]\n",
    "\n",
    "    for i in range(0, int(output.size(0))):\n",
    "        folder_test_prob = os.path.join(folder_name, \"test_prob\")\n",
    "        os.makedirs(folder_test_prob, exist_ok=True)\n",
    "        image_prob = output[i].squeeze().detach()\n",
    "        image_prob = torch.argmax(image_prob, dim=0).cpu().numpy()\n",
    "        image_prob = Image.fromarray((image_prob * 255).astype(np.uint8))\n",
    "        image_prob.save(os.path.join(folder_test_prob, str(id_test[i]) + \".png\"))\n",
    "\n",
    "# show epoch mIoU, mDice\n",
    "index_mIoU, index_mDice = count_index(folder_test_prob, folder_test)\n",
    "print(f'Test  original : mIoU: {index_mIoU:.4f}, DSC: {index_mDice:.4f}')   "
   ]
  }
 ],
 "metadata": {
  "kernelspec": {
   "display_name": "ps-mt",
   "language": "python",
   "name": "python3"
  },
  "language_info": {
   "codemirror_mode": {
    "name": "ipython",
    "version": 3
   },
   "file_extension": ".py",
   "mimetype": "text/x-python",
   "name": "python",
   "nbconvert_exporter": "python",
   "pygments_lexer": "ipython3",
   "version": "3.7.15"
  }
 },
 "nbformat": 4,
 "nbformat_minor": 2
}
